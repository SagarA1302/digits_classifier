{
 "cells": [
  {
   "cell_type": "code",
   "execution_count": 11,
   "metadata": {},
   "outputs": [
    {
     "name": "stdout",
     "output_type": "stream",
     "text": [
      "Epoch 1/9\n",
      "1875/1875 [==============================] - 3s 1ms/step - loss: 0.6180 - accuracy: 0.7828\n",
      "Epoch 2/9\n",
      "1875/1875 [==============================] - 3s 1ms/step - loss: 0.3662 - accuracy: 0.8677\n",
      "Epoch 3/9\n",
      "1875/1875 [==============================] - 3s 2ms/step - loss: 0.3169 - accuracy: 0.8821\n",
      "Epoch 4/9\n",
      "1875/1875 [==============================] - 3s 2ms/step - loss: 0.2915 - accuracy: 0.8908\n",
      "Epoch 5/9\n",
      "1875/1875 [==============================] - 3s 2ms/step - loss: 0.2736 - accuracy: 0.8967\n",
      "Epoch 6/9\n",
      "1875/1875 [==============================] - 3s 2ms/step - loss: 0.2576 - accuracy: 0.9038\n",
      "Epoch 7/9\n",
      "1875/1875 [==============================] - 3s 2ms/step - loss: 0.2404 - accuracy: 0.9090\n",
      "Epoch 8/9\n",
      "1875/1875 [==============================] - 3s 2ms/step - loss: 0.2300 - accuracy: 0.9131\n",
      "Epoch 9/9\n",
      "1875/1875 [==============================] - 3s 2ms/step - loss: 0.2209 - accuracy: 0.9163\n"
     ]
    },
    {
     "data": {
      "text/plain": [
       "<tensorflow.python.keras.callbacks.History at 0x209d88bf160>"
      ]
     },
     "execution_count": 11,
     "metadata": {},
     "output_type": "execute_result"
    }
   ],
   "source": [
    "import tensorflow as tf\n",
    "import matplotlib.pyplot as plt\n",
    "import numpy as np\n",
    "\n",
    "\n",
    "mnist = tf.keras.datasets.fashion_mnist\n",
    "(x_train,y_train),(x_test,y_test)=mnist.load_data()\n",
    "x_train=tf.keras.utils.normalize(x_train,axis=1)\n",
    "x_test=tf.keras.utils.normalize(x_test,axis=1)\n",
    "\n",
    "classes =['T-shirt','Pants','pullOver','Dress','Coat','Sandal','Shirt','Sneaker','Bag','Ankle-Boot']\n",
    "\n",
    "          \n",
    "model = tf.keras.models.Sequential()\n",
    "model.add(tf.keras.layers.Flatten())\n",
    "model.add(tf.keras.layers.Dense(256,activation=tf.nn.relu))\n",
    "model.add(tf.keras.layers.Dense(10,activation=tf.nn.softmax))\n",
    "\n",
    "model.compile(optimizer='adam',\n",
    "             loss='sparse_categorical_crossentropy',\n",
    "             metrics=['accuracy'])\n",
    "model.fit(x_train,y_train,epochs=9)"
   ]
  },
  {
   "cell_type": "code",
   "execution_count": 12,
   "metadata": {},
   "outputs": [
    {
     "name": "stdout",
     "output_type": "stream",
     "text": [
      "313/313 [==============================] - 0s 1ms/step - loss: 0.3255 - accuracy: 0.8816\n",
      "0.32549211382865906 0.881600022315979\n"
     ]
    }
   ],
   "source": [
    "loss,acc= model.evaluate(x_test,y_test)\n",
    "print(loss,acc)"
   ]
  },
  {
   "cell_type": "code",
   "execution_count": 21,
   "metadata": {},
   "outputs": [
    {
     "name": "stdout",
     "output_type": "stream",
     "text": [
      "pullOver\n"
     ]
    },
    {
     "data": {
      "image/png": "[encoded data removed]",
      "text/plain": [
       "<Figure size 432x288 with 1 Axes>"
      ]
     },
     "metadata": {
      "needs_background": "light"
     },
     "output_type": "display_data"
    }
   ],
   "source": [
    "predictions = model.predict(x_test)\n",
    "a=99\n",
    "print(classes[np.argmax(predictions[a])])\n",
    "plt.imshow(x_test[a])\n",
    "plt.show()"
   ]
  },
  {
   "cell_type": "code",
   "execution_count": null,
   "metadata": {},
   "outputs": [],
   "source": []
  }
 ],
 "metadata": {
  "kernelspec": {
   "display_name": "Python 3",
   "language": "python",
   "name": "python3"
  },
  "language_info": {
   "codemirror_mode": {
    "name": "ipython",
    "version": 3
   },
   "file_extension": ".py",
   "mimetype": "text/x-python",
   "name": "python",
   "nbconvert_exporter": "python",
   "pygments_lexer": "ipython3",
   "version": "3.8.5"
  }
 },
 "nbformat": 4,
 "nbformat_minor": 4
}
